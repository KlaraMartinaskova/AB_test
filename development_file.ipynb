{
 "cells": [
  {
   "attachments": {},
   "cell_type": "markdown",
   "metadata": {},
   "source": [
    "##### Notino Test Assigment\n",
    "###### Author: Klara Martinaskova\n",
    "###### Task: Evaluate an AB test of the recommendation algorithm\n"
   ]
  },
  {
   "cell_type": "code",
   "execution_count": null,
   "metadata": {},
   "outputs": [],
   "source": []
  },
  {
   "cell_type": "code",
   "execution_count": 24,
   "metadata": {},
   "outputs": [],
   "source": [
    "from matplotlib import pyplot as plt\n",
    "import pandas as pd\n",
    "import seaborn as sns\n",
    "import numpy as np\n",
    "import zipfile\n",
    "import os\n",
    "import csv\n"
   ]
  },
  {
   "cell_type": "code",
   "execution_count": 25,
   "metadata": {},
   "outputs": [],
   "source": [
    "# open CSV files\n",
    "with open('clients_final.csv', 'r') as file:\n",
    "    csv_clients = csv.reader(file)\n",
    "with open('orders_final.csv', 'r') as file:\n",
    "    csv_orders = csv.reader(file)"
   ]
  },
  {
   "cell_type": "code",
   "execution_count": 26,
   "metadata": {},
   "outputs": [
    {
     "name": "stdout",
     "output_type": "stream",
     "text": [
      "<class '_csv.reader'>\n",
      "<class '_csv.reader'>\n"
     ]
    }
   ],
   "source": [
    "\n",
    "print(type(csv_clients))\n",
    "print(type(csv_orders))"
   ]
  },
  {
   "cell_type": "code",
   "execution_count": 27,
   "metadata": {},
   "outputs": [
    {
     "name": "stdout",
     "output_type": "stream",
     "text": [
      "<class 'pandas.core.frame.DataFrame'>\n",
      "<class 'pandas.core.frame.DataFrame'>\n"
     ]
    }
   ],
   "source": [
    "# open csv file ans save as dataframe\n",
    "df_clients = pd.read_csv('clients_final.csv')\n",
    "df_orders = pd.read_csv('orders_final.csv')\n",
    "\n",
    "print(type(df_clients))\n",
    "print(type(df_orders))"
   ]
  },
  {
   "cell_type": "code",
   "execution_count": 28,
   "metadata": {},
   "outputs": [
    {
     "name": "stdout",
     "output_type": "stream",
     "text": [
      "         date country               sessionID            clientID  isNew  \\\n",
      "0  2023-05-17      CH  4917af16af33f.smyluydm  47f9978883.4917aff      0   \n",
      "1  2023-05-17      CH  4917af16aff17.xgrloruz   913x1x688.497f486      0   \n",
      "2  2023-05-17      CH   4917af166a373.j1v9mmi  491a661ax6.4917aff      1   \n",
      "3  2023-05-17      CH   4917af1669x74.vsakfcn  4ff8714149.4917af9      1   \n",
      "4  2023-05-17      CH   4917af1661f1a.fxp7nsf  67a67x3f9.4917af18      1   \n",
      "\n",
      "   abUser  orderNumber  \n",
      "0     1.0          NaN  \n",
      "1     1.0          NaN  \n",
      "2     1.0          NaN  \n",
      "3     1.0          NaN  \n",
      "4     1.0          NaN  \n"
     ]
    }
   ],
   "source": [
    "print(df_clients.head())"
   ]
  },
  {
   "cell_type": "code",
   "execution_count": 29,
   "metadata": {},
   "outputs": [],
   "source": [
    "df_clients = pd.read_csv('clients_final.csv',encoding=\"cp1250\", sep=\",\", low_memory=False)"
   ]
  },
  {
   "cell_type": "code",
   "execution_count": 30,
   "metadata": {},
   "outputs": [
    {
     "name": "stdout",
     "output_type": "stream",
     "text": [
      "         date country               sessionID            clientID  isNew  \\\n",
      "0  2023-05-17      CH  4917af16af33f.smyluydm  47f9978883.4917aff      0   \n",
      "1  2023-05-17      CH  4917af16aff17.xgrloruz   913x1x688.497f486      0   \n",
      "2  2023-05-17      CH   4917af166a373.j1v9mmi  491a661ax6.4917aff      1   \n",
      "3  2023-05-17      CH   4917af1669x74.vsakfcn  4ff8714149.4917af9      1   \n",
      "4  2023-05-17      CH   4917af1661f1a.fxp7nsf  67a67x3f9.4917af18      1   \n",
      "\n",
      "   abUser  orderNumber  \n",
      "0     1.0          NaN  \n",
      "1     1.0          NaN  \n",
      "2     1.0          NaN  \n",
      "3     1.0          NaN  \n",
      "4     1.0          NaN  \n"
     ]
    }
   ],
   "source": [
    "print(df_clients.head())"
   ]
  },
  {
   "cell_type": "code",
   "execution_count": 31,
   "metadata": {},
   "outputs": [
    {
     "name": "stdout",
     "output_type": "stream",
     "text": [
      "(2769600, 7)\n",
      "2769600\n",
      "0           True\n",
      "1           True\n",
      "2           True\n",
      "3           True\n",
      "4           True\n",
      "           ...  \n",
      "5562167     True\n",
      "5562168    False\n",
      "5562169    False\n",
      "5562170    False\n",
      "5562171     True\n",
      "Name: abUser, Length: 5562172, dtype: bool\n"
     ]
    }
   ],
   "source": [
    "abUser1 = df_clients[df_clients['abUser']==1.0]\n",
    "print(abUser1.shape)\n",
    "print(abUser1['abUser'].count())\n",
    "print((df_clients['abUser']==1.0))"
   ]
  },
  {
   "cell_type": "code",
   "execution_count": 32,
   "metadata": {},
   "outputs": [
    {
     "name": "stdout",
     "output_type": "stream",
     "text": [
      "[ 1.  2. nan]\n",
      "2769600\n",
      "2770134\n",
      "22438\n",
      "5562172\n",
      "(5562172, 7)\n"
     ]
    }
   ],
   "source": [
    "sum_reco = (df_clients['abUser']==1.0).sum()\n",
    "sum_control = (df_clients['abUser']==2.0).sum()\n",
    "sum_99 = (df_clients['abUser']).isna().sum()\n",
    "# print only unique values in abUser\n",
    "print(df_clients['abUser'].unique())\n",
    "print(sum_reco)\n",
    "print(sum_control)\n",
    "print(sum_99)\n",
    "print(sum_reco + sum_control + sum_99)\n",
    "print(df_clients.shape)"
   ]
  },
  {
   "cell_type": "code",
   "execution_count": 33,
   "metadata": {},
   "outputs": [
    {
     "name": "stdout",
     "output_type": "stream",
     "text": [
      "Unique values in abUser: [ 1.  2. nan]\n"
     ]
    }
   ],
   "source": [
    "abUser_unique = df_clients['abUser'].unique() # 99 is not present here (just NaN)\n",
    "txt = \"Unique values in abUser: {}\"\n",
    "print(txt.format(abUser_unique))"
   ]
  },
  {
   "cell_type": "code",
   "execution_count": null,
   "metadata": {},
   "outputs": [],
   "source": []
  },
  {
   "cell_type": "code",
   "execution_count": 34,
   "metadata": {},
   "outputs": [
    {
     "name": "stdout",
     "output_type": "stream",
     "text": [
      "2769600\n",
      "2770134\n",
      "22438\n",
      "5562172\n",
      "(5562172, 7)\n"
     ]
    }
   ],
   "source": [
    "# o\tIs the ratio of users in the reco group and users in the test group really 50:50? \n",
    "# reco group: abUser   = 2\n",
    "# control group: abUser = 1\n",
    "\n",
    "reco_count = df_clients['abUser'][df_clients['abUser']==1].count()\n",
    "control_count = df_clients['abUser'][df_clients['abUser']==2].count()\n",
    "other_count = (df_clients['abUser']).isna().sum()\n",
    "\n",
    "print(reco_count)\n",
    "print(control_count)\n",
    "print(other_count)\n",
    "print(reco_count + control_count + other_count) # check sum of all\n",
    "print(df_clients.shape)\n",
    "\n",
    "\n",
    "\n"
   ]
  },
  {
   "cell_type": "code",
   "execution_count": 35,
   "metadata": {},
   "outputs": [
    {
     "name": "stdout",
     "output_type": "stream",
     "text": [
      "The test is fine, share is below 0.5%.\n",
      "Percent of users with an unassigned group: 0.40%\n"
     ]
    }
   ],
   "source": [
    "# •\tWhat about the users with an unassigned group? Bambino thinks the test is fine if their share is below 0.5%. \n",
    "reco_count = df_clients['abUser'][df_clients['abUser']==1].count()\n",
    "control_count = df_clients['abUser'][df_clients['abUser']==2].count()\n",
    "other_count = (df_clients['abUser']).isna().sum()\n",
    "\n",
    "percent = other_count/((reco_count + control_count + other_count))*100\n",
    "\n",
    "\n",
    "if percent < 0.5:\n",
    "    print(\"The test is fine, share is below 0.5%.\")\n",
    "    print(\"Percent of users with an unassigned group: {:.2f}%\".format(percent))\n",
    "else:\n",
    "    print(\"The test is not fine, share is {:.2f}%\".format(percent))\n"
   ]
  },
  {
   "cell_type": "code",
   "execution_count": 36,
   "metadata": {},
   "outputs": [
    {
     "name": "stdout",
     "output_type": "stream",
     "text": [
      "               date country               sessionID            clientID  \\\n",
      "0        2023-05-17      CH  4917af16af33f.smyluydm  47f9978883.4917aff   \n",
      "1        2023-05-17      CH  4917af16aff17.xgrloruz   913x1x688.497f486   \n",
      "2        2023-05-17      CH   4917af166a373.j1v9mmi  491a661ax6.4917aff   \n",
      "3        2023-05-17      CH   4917af1669x74.vsakfcn  4ff8714149.4917af9   \n",
      "4        2023-05-17      CH   4917af1661f1a.fxp7nsf  67a67x3f9.4917af18   \n",
      "...             ...     ...                     ...                 ...   \n",
      "4850093  2023-06-14      CH  49199f9a17a17.snx39iox   69a1a9348.49199f9   \n",
      "4850094  2023-06-14      CH  49199f9a19441.mx3mzhbg  4188a94139.49199fx   \n",
      "4850095  2023-06-14      CH  49199f96a94xx.1yp1ge6r   a3974a4979.49xf99   \n",
      "4850096  2023-06-14      CH  49199f96x9371.nrd9r8tv  4319f86691.49198x1   \n",
      "4850097  2023-06-14      CH   49199f96f1ff9.vkrwehp   x46134166.49199f9   \n",
      "\n",
      "         isNew  abUser  orderNumber  \n",
      "0            0     1.0          NaN  \n",
      "1            0     1.0          NaN  \n",
      "2            1     1.0          NaN  \n",
      "3            1     1.0          NaN  \n",
      "4            1     1.0          NaN  \n",
      "...        ...     ...          ...  \n",
      "4850093      1     2.0          NaN  \n",
      "4850094      1     2.0          NaN  \n",
      "4850095      0     1.0          NaN  \n",
      "4850096      0     1.0          NaN  \n",
      "4850097      1     2.0          NaN  \n",
      "\n",
      "[156 rows x 7 columns]\n"
     ]
    }
   ],
   "source": [
    "# group by date\n",
    "groupt_date = df_clients.groupby('date')\n",
    "print(groupt_date.head())"
   ]
  },
  {
   "cell_type": "code",
   "execution_count": 37,
   "metadata": {},
   "outputs": [
    {
     "name": "stdout",
     "output_type": "stream",
     "text": [
      "5289905\n"
     ]
    }
   ],
   "source": [
    "# how many order num is Nan\n",
    "print(df_clients['orderNumber'].isna().sum())"
   ]
  },
  {
   "cell_type": "code",
   "execution_count": 38,
   "metadata": {},
   "outputs": [],
   "source": [
    "# o\tCan you test it by an appropriate statistical test? \n",
    "# o\tDo you prefer to test it on a daily basis, or to run one test for the whole period? \n",
    "# o\tIf you run multiple tests, do you need all of them to have positive results to verify the 50:50 distribution hypothesis? \n"
   ]
  },
  {
   "cell_type": "code",
   "execution_count": 39,
   "metadata": {},
   "outputs": [
    {
     "name": "stdout",
     "output_type": "stream",
     "text": [
      "0          False\n",
      "1          False\n",
      "2          False\n",
      "3          False\n",
      "4          False\n",
      "           ...  \n",
      "5562167    False\n",
      "5562168    False\n",
      "5562169    False\n",
      "5562170    False\n",
      "5562171    False\n",
      "Length: 5562172, dtype: bool\n"
     ]
    }
   ],
   "source": [
    "print(df_clients.duplicated())"
   ]
  },
  {
   "cell_type": "code",
   "execution_count": 40,
   "metadata": {},
   "outputs": [],
   "source": [
    "# new_df = df.dropna() # new dataframe, which doesnot change the original dataframe and does not contain NaN values\n",
    "# df['Date'] = pd.to_datetime(df['Date']) # convert column Date to datetime\n",
    "# print(df.duplicated())\n",
    "# df.drop_duplicates(inplace = True)\n"
   ]
  },
  {
   "cell_type": "code",
   "execution_count": 41,
   "metadata": {},
   "outputs": [
    {
     "name": "stdout",
     "output_type": "stream",
     "text": [
      "Share of orders that are not in GA data: 8.76%\n"
     ]
    }
   ],
   "source": [
    "# •\tWhat about the orders that are not in GA data? What is their share? How do you propose to handle them?\n",
    "df_join = df_clients.merge(df_orders, on='orderNumber', how='inner') # inner join\n",
    "df_join_count = df_join['orderNumber'].count() # number of common orders in both dataframes\n",
    "df_clients_count = df_clients['orderNumber'].count() # number of orders in df_clients\n",
    "share = 1-(df_join_count/df_clients_count) # share of orders that are not in GA data\n",
    "\n",
    "print(\"Share of orders that are not in GA data: {:.2f}%\".format(share*100))"
   ]
  },
  {
   "cell_type": "code",
   "execution_count": 42,
   "metadata": {},
   "outputs": [
    {
     "name": "stdout",
     "output_type": "stream",
     "text": [
      "       date_x country_x               sessionID            clientID  isNew  \\\n",
      "0  2023-05-17        CH   4917af16fx34x.n6c6bdy  4f17a76x4f.4917af9      0   \n",
      "1  2023-05-17        CH   4917af184a73x.esah47g   74x747x34.49364ax      0   \n",
      "2  2023-05-17        CH  4917af1887a37.axhmhla9   7xfx73f47.49xf9a1      0   \n",
      "3  2023-05-17        CH  491764771a143.uf1pn9mb  478786336a.48f641a      0   \n",
      "4  2023-05-17        CH  4917af6afxxfa.3zn8xizx   7499371f7.4917aa1      0   \n",
      "\n",
      "   abUser   orderNumber country_y      date_y  quantity   revenue  \n",
      "0     2.0  1.142808e+09        CH  2023-05-17         1    8.3551  \n",
      "1     1.0  1.142808e+09        CH  2023-05-17         9  107.4632  \n",
      "2     1.0  1.142808e+09        CH  2023-05-17         3   14.1620  \n",
      "3     1.0  1.142810e+09        CH  2023-05-17        26  140.9439  \n",
      "4     1.0  1.142808e+09        CH  2023-05-17         2   16.4306  \n"
     ]
    }
   ],
   "source": [
    "print(df_join.head())"
   ]
  },
  {
   "cell_type": "code",
   "execution_count": 43,
   "metadata": {},
   "outputs": [
    {
     "name": "stdout",
     "output_type": "stream",
     "text": [
      "66.9124707396017\n",
      "41.82435776019209\n",
      "The reco group earns, on average, a greater revenue.\n",
      "The average revenue of reco group is 66.91 and the average revenue of control group is 41.82\n"
     ]
    }
   ],
   "source": [
    "#•\tDoes the “reco group” earn, on average, a greater revenue? Does it have larger orders? \n",
    "# Propose appropriate metrics and visualize them. Is there any other metric you may wish to evaluate?\n",
    "\n",
    "# reco group =  abUser == 1\n",
    "# control group = abUser == 2\n",
    "\n",
    "reco_revenue_mean = df_join['revenue'][df_join['abUser']==1].mean() \n",
    "control_revenue_mean = df_join['revenue'][df_join['abUser']==2].mean()\n",
    "\n",
    "print(reco_revenue_mean)\n",
    "print(control_revenue_mean)\n",
    "\n",
    "if reco_revenue_mean > control_revenue_mean:\n",
    "    print(\"The reco group earns, on average, a greater revenue.\")\n",
    "else:\n",
    "    print(\"The reco group does not earn, on average, a greater revenue.\")\n",
    "\n",
    "print(\"The average revenue of reco group is {:.2f} and the average revenue of control group is {:.2f}\".format(reco_revenue_mean, control_revenue_mean))\n",
    "\n"
   ]
  },
  {
   "cell_type": "code",
   "execution_count": 44,
   "metadata": {},
   "outputs": [],
   "source": [
    "# Does it have larger orders? \n",
    "# Propose appropriate metrics and visualize them. Is there any other metric you may wish to evaluate?\n"
   ]
  },
  {
   "cell_type": "code",
   "execution_count": 78,
   "metadata": {},
   "outputs": [
    {
     "name": "stdout",
     "output_type": "stream",
     "text": [
      "4.358408478354907\n",
      "4.350676699239234\n"
     ]
    }
   ],
   "source": [
    "reco_quantity_mean = df_join['quantity'][df_join['abUser']==1].mean() \n",
    "ceontrol_quantity_mean = df_join['quantity'][df_join['abUser']==2].mean()\n",
    "\n",
    "print(reco_quantity_mean)\n",
    "print(ceontrol_quantity_mean)\n",
    "\n",
    "# almost same, need visualization of distribution\n",
    "\n",
    "#df_join.loc[df_join[df_join['abUser']==1].quantity]\n"
   ]
  },
  {
   "cell_type": "code",
   "execution_count": 54,
   "metadata": {},
   "outputs": [
    {
     "name": "stderr",
     "output_type": "stream",
     "text": [
      "No artists with labels found to put in legend.  Note that artists whose label start with an underscore are ignored when legend() is called with no argument.\n"
     ]
    },
    {
     "data": {
      "image/png": "[encoded data removed]",
      "text/plain": [
       "<Figure size 1000x600 with 1 Axes>"
      ]
     },
     "metadata": {},
     "output_type": "display_data"
    }
   ],
   "source": [
    "# Filter the DataFrame for group == 1 and group == 2\n",
    "group_1_data = df_join[df_join['abUser'] == 1]\n",
    "group_2_data = df_join[df_join['abUser'] == 2]\n",
    "\n",
    "# Create histograms for each group using Seaborn\n",
    "plt.figure(figsize=(10, 6))  # Set the figure size\n",
    "sns.histplot(data=group_1_data, x='revenue', y='quantity', bins=5, color='blue', label='Group 1')\n",
    "sns.histplot(data=group_2_data, x='revenue', y='quantity', bins=5, color='red', label='Group 2')\n",
    "\n",
    "# Customize the plot\n",
    "plt.xlabel('Revenue')\n",
    "plt.ylabel('Quantity')\n",
    "plt.title('Histogram of Revenue vs. Quantity by Group')\n",
    "plt.legend(loc='upper right')\n",
    "\n",
    "# Show the plot\n",
    "plt.show()\n",
    "\n",
    "\n",
    "\n",
    "\n"
   ]
  },
  {
   "cell_type": "code",
   "execution_count": null,
   "metadata": {},
   "outputs": [
    {
     "data": {
      "text/plain": [
       "<AxesSubplot:ylabel='Frequency'>"
      ]
     },
     "execution_count": 61,
     "metadata": {},
     "output_type": "execute_result"
    },
    {
     "data": {
      "image/png": "[encoded data removed]",
      "text/plain": [
       "<Figure size 640x480 with 1 Axes>"
      ]
     },
     "metadata": {},
     "output_type": "display_data"
    },
    {
     "data": {
      "image/png": "[encoded data removed]",
      "text/plain": [
       "<Figure size 640x480 with 1 Axes>"
      ]
     },
     "metadata": {},
     "output_type": "display_data"
    }
   ],
   "source": [
    "#df.plot(x='game', y=['points_for', 'points_against'])\n",
    "df_join_reco = df_join[df_join['abUser']==1]\n",
    "df_join_control = df_join[df_join['abUser']==2]\n",
    "\n",
    "df_join_reco.plot(x='revenue', y=['quantity'],kind  = \"hist\")\n",
    "df_join_control.plot(x='revenue', y=['quantity'], kind = \"hist\")\n"
   ]
  },
  {
   "cell_type": "code",
   "execution_count": 65,
   "metadata": {},
   "outputs": [
    {
     "data": {
      "text/plain": [
       "<matplotlib.collections.PathCollection at 0x2560029aa40>"
      ]
     },
     "execution_count": 65,
     "metadata": {},
     "output_type": "execute_result"
    },
    {
     "data": {
      "image/png": "[encoded data removed]",
      "text/plain": [
       "<Figure size 640x480 with 1 Axes>"
      ]
     },
     "metadata": {},
     "output_type": "display_data"
    }
   ],
   "source": [
    "group_1_data = df_join[df_join['abUser'] == 1]\n",
    "\n",
    "# Create a scatter plot with 'revenue' on the x-axis and 'quantity' on the y-axis\n",
    "plt.scatter(group_1_data['revenue'], group_1_data['quantity'], alpha=0.5)"
   ]
  },
  {
   "cell_type": "code",
   "execution_count": null,
   "metadata": {},
   "outputs": [
    {
     "data": {
      "image/png": "[encoded data removed]",
      "text/plain": [
       "<Figure size 640x480 with 1 Axes>"
      ]
     },
     "metadata": {},
     "output_type": "display_data"
    }
   ],
   "source": [
    "df_join.boxplot(column=[\"revenue\", \"quantity\"])\n",
    "plt.ylabel(\"Value\")\n",
    "plt.title(\"Box Plot of Column1 and Column2\")\n",
    "plt.show()"
   ]
  },
  {
   "cell_type": "code",
   "execution_count": 67,
   "metadata": {},
   "outputs": [
    {
     "data": {
      "text/plain": [
       "(array([2.5049e+04, 3.1337e+04, 2.0186e+04, 1.5132e+04, 9.8250e+03,\n",
       "        6.2400e+03, 3.8660e+03, 2.4700e+03, 1.6030e+03, 1.1480e+03,\n",
       "        7.7700e+02, 5.7600e+02, 4.2000e+02, 2.9900e+02, 2.1900e+02,\n",
       "        1.8800e+02, 1.2700e+02, 1.1400e+02, 8.6000e+01, 7.1000e+01,\n",
       "        4.9000e+01, 3.7000e+01, 3.7000e+01, 4.0000e+01, 3.0000e+01,\n",
       "        3.1000e+01, 1.8000e+01, 1.6000e+01, 1.2000e+01, 1.0000e+01,\n",
       "        1.0000e+01, 1.5000e+01, 7.0000e+00, 1.5000e+01, 6.0000e+00,\n",
       "        5.0000e+00, 9.0000e+00, 1.3000e+01, 6.0000e+00, 6.0000e+00,\n",
       "        4.0000e+00, 4.0000e+00, 4.0000e+00, 0.0000e+00, 1.0000e+00,\n",
       "        1.0000e+00, 2.0000e+00, 2.0000e+00, 1.0000e+00, 0.0000e+00,\n",
       "        1.0000e+00, 3.0000e+00, 2.0000e+00, 0.0000e+00, 1.0000e+00,\n",
       "        3.0000e+00, 0.0000e+00, 1.0000e+00, 1.0000e+00, 1.0000e+00,\n",
       "        0.0000e+00, 0.0000e+00, 0.0000e+00, 0.0000e+00, 0.0000e+00,\n",
       "        0.0000e+00, 0.0000e+00, 0.0000e+00, 0.0000e+00, 0.0000e+00,\n",
       "        1.0000e+00, 0.0000e+00, 0.0000e+00, 1.0000e+00, 0.0000e+00,\n",
       "        0.0000e+00, 0.0000e+00, 0.0000e+00, 0.0000e+00, 0.0000e+00,\n",
       "        0.0000e+00, 0.0000e+00, 0.0000e+00, 0.0000e+00, 1.0000e+00,\n",
       "        0.0000e+00, 0.0000e+00, 0.0000e+00, 1.0000e+00, 0.0000e+00,\n",
       "        0.0000e+00, 0.0000e+00, 0.0000e+00, 0.0000e+00, 0.0000e+00,\n",
       "        0.0000e+00, 0.0000e+00, 0.0000e+00, 0.0000e+00, 1.0000e+00]),\n",
       " array([-9.00000000e-04,  1.39868390e+01,  2.79745780e+01,  4.19623170e+01,\n",
       "         5.59500560e+01,  6.99377949e+01,  8.39255339e+01,  9.79132729e+01,\n",
       "         1.11901012e+02,  1.25888751e+02,  1.39876490e+02,  1.53864229e+02,\n",
       "         1.67851968e+02,  1.81839707e+02,  1.95827446e+02,  2.09815185e+02,\n",
       "         2.23802924e+02,  2.37790663e+02,  2.51778402e+02,  2.65766141e+02,\n",
       "         2.79753880e+02,  2.93741619e+02,  3.07729358e+02,  3.21717097e+02,\n",
       "         3.35704836e+02,  3.49692575e+02,  3.63680314e+02,  3.77668053e+02,\n",
       "         3.91655792e+02,  4.05643531e+02,  4.19631270e+02,  4.33619009e+02,\n",
       "         4.47606748e+02,  4.61594487e+02,  4.75582226e+02,  4.89569965e+02,\n",
       "         5.03557704e+02,  5.17545443e+02,  5.31533182e+02,  5.45520921e+02,\n",
       "         5.59508660e+02,  5.73496399e+02,  5.87484138e+02,  6.01471877e+02,\n",
       "         6.15459616e+02,  6.29447355e+02,  6.43435094e+02,  6.57422833e+02,\n",
       "         6.71410572e+02,  6.85398311e+02,  6.99386050e+02,  7.13373788e+02,\n",
       "         7.27361527e+02,  7.41349266e+02,  7.55337005e+02,  7.69324744e+02,\n",
       "         7.83312483e+02,  7.97300222e+02,  8.11287961e+02,  8.25275700e+02,\n",
       "         8.39263439e+02,  8.53251178e+02,  8.67238917e+02,  8.81226656e+02,\n",
       "         8.95214395e+02,  9.09202134e+02,  9.23189873e+02,  9.37177612e+02,\n",
       "         9.51165351e+02,  9.65153090e+02,  9.79140829e+02,  9.93128568e+02,\n",
       "         1.00711631e+03,  1.02110405e+03,  1.03509179e+03,  1.04907952e+03,\n",
       "         1.06306726e+03,  1.07705500e+03,  1.09104274e+03,  1.10503048e+03,\n",
       "         1.11901822e+03,  1.13300596e+03,  1.14699370e+03,  1.16098144e+03,\n",
       "         1.17496918e+03,  1.18895691e+03,  1.20294465e+03,  1.21693239e+03,\n",
       "         1.23092013e+03,  1.24490787e+03,  1.25889561e+03,  1.27288335e+03,\n",
       "         1.28687109e+03,  1.30085883e+03,  1.31484657e+03,  1.32883430e+03,\n",
       "         1.34282204e+03,  1.35680978e+03,  1.37079752e+03,  1.38478526e+03,\n",
       "         1.39877300e+03]),\n",
       " <BarContainer object of 100 artists>)"
      ]
     },
     "execution_count": 67,
     "metadata": {},
     "output_type": "execute_result"
    },
    {
     "data": {
      "image/png": "[encoded data removed]",
      "text/plain": [
       "<Figure size 640x480 with 1 Axes>"
      ]
     },
     "metadata": {},
     "output_type": "display_data"
    }
   ],
   "source": [
    "plt.hist(x = df_join['revenue'][df_join['abUser']==1], bins = 100,  alpha = 0.5, label = 'reco group')\n",
    "plt.hist(x = df_join['revenue'][df_join['abUser']==2], bins = 100,  alpha = 0.5, label = 'control group')"
   ]
  },
  {
   "cell_type": "code",
   "execution_count": 66,
   "metadata": {},
   "outputs": [
    {
     "data": {
      "text/plain": [
       "(array([2.2868e+04, 2.2198e+04, 0.0000e+00, 1.8178e+04, 0.0000e+00,\n",
       "        1.4258e+04, 1.0910e+04, 0.0000e+00, 8.1030e+03, 0.0000e+00,\n",
       "        5.9640e+03, 4.3070e+03, 0.0000e+00, 3.2370e+03, 0.0000e+00,\n",
       "        2.5490e+03, 1.8410e+03, 0.0000e+00, 1.2900e+03, 0.0000e+00,\n",
       "        1.0250e+03, 0.0000e+00, 7.8700e+02, 5.7900e+02, 0.0000e+00,\n",
       "        4.4800e+02, 0.0000e+00, 3.2900e+02, 2.4900e+02, 0.0000e+00,\n",
       "        2.0000e+02, 0.0000e+00, 1.6900e+02, 1.2300e+02, 0.0000e+00,\n",
       "        1.0600e+02, 0.0000e+00, 7.1000e+01, 6.6000e+01, 0.0000e+00,\n",
       "        5.4000e+01, 0.0000e+00, 4.7000e+01, 0.0000e+00, 4.8000e+01,\n",
       "        2.5000e+01, 0.0000e+00, 2.0000e+01, 0.0000e+00, 1.6000e+01,\n",
       "        9.0000e+00, 0.0000e+00, 1.0000e+01, 0.0000e+00, 7.0000e+00,\n",
       "        3.0000e+00, 0.0000e+00, 3.0000e+00, 0.0000e+00, 5.0000e+00,\n",
       "        0.0000e+00, 9.0000e+00, 5.0000e+00, 0.0000e+00, 2.0000e+00,\n",
       "        0.0000e+00, 3.0000e+00, 3.0000e+00, 0.0000e+00, 1.0000e+00,\n",
       "        0.0000e+00, 3.0000e+00, 0.0000e+00, 0.0000e+00, 3.0000e+00,\n",
       "        0.0000e+00, 2.0000e+00, 2.0000e+00, 0.0000e+00, 0.0000e+00,\n",
       "        0.0000e+00, 2.0000e+00, 0.0000e+00, 1.0000e+00, 0.0000e+00,\n",
       "        0.0000e+00, 0.0000e+00, 0.0000e+00, 0.0000e+00, 0.0000e+00,\n",
       "        0.0000e+00, 1.0000e+00, 0.0000e+00, 1.0000e+00, 0.0000e+00,\n",
       "        0.0000e+00, 0.0000e+00, 0.0000e+00, 0.0000e+00, 2.0000e+00]),\n",
       " array([ 1.  ,  1.59,  2.18,  2.77,  3.36,  3.95,  4.54,  5.13,  5.72,\n",
       "         6.31,  6.9 ,  7.49,  8.08,  8.67,  9.26,  9.85, 10.44, 11.03,\n",
       "        11.62, 12.21, 12.8 , 13.39, 13.98, 14.57, 15.16, 15.75, 16.34,\n",
       "        16.93, 17.52, 18.11, 18.7 , 19.29, 19.88, 20.47, 21.06, 21.65,\n",
       "        22.24, 22.83, 23.42, 24.01, 24.6 , 25.19, 25.78, 26.37, 26.96,\n",
       "        27.55, 28.14, 28.73, 29.32, 29.91, 30.5 , 31.09, 31.68, 32.27,\n",
       "        32.86, 33.45, 34.04, 34.63, 35.22, 35.81, 36.4 , 36.99, 37.58,\n",
       "        38.17, 38.76, 39.35, 39.94, 40.53, 41.12, 41.71, 42.3 , 42.89,\n",
       "        43.48, 44.07, 44.66, 45.25, 45.84, 46.43, 47.02, 47.61, 48.2 ,\n",
       "        48.79, 49.38, 49.97, 50.56, 51.15, 51.74, 52.33, 52.92, 53.51,\n",
       "        54.1 , 54.69, 55.28, 55.87, 56.46, 57.05, 57.64, 58.23, 58.82,\n",
       "        59.41, 60.  ]),\n",
       " <BarContainer object of 100 artists>)"
      ]
     },
     "execution_count": 66,
     "metadata": {},
     "output_type": "execute_result"
    },
    {
     "data": {
      "image/png": "[encoded data removed]",
      "text/plain": [
       "<Figure size 640x480 with 1 Axes>"
      ]
     },
     "metadata": {},
     "output_type": "display_data"
    }
   ],
   "source": [
    "plt.hist(x = df_join['quantity'][df_join['abUser']==1], bins = 100,  alpha = 0.5, label = 'reco group')\n",
    "plt.hist(x = df_join['quantity'][df_join['abUser']==2], bins = 100,  alpha = 0.5, label = 'control group')"
   ]
  },
  {
   "cell_type": "code",
   "execution_count": 72,
   "metadata": {},
   "outputs": [
    {
     "name": "stdout",
     "output_type": "stream",
     "text": [
      "248419\n",
      "117191\n",
      "               date_x  country_x  sessionID  clientID  isNew  abUser  \\\n",
      "revenue                                                                \n",
      "-4.230000e-02       1          1          1         1      1       1   \n",
      "-2.110000e-02       1          1          1         1      1       1   \n",
      "-1.000000e-02       1          1          1         1      1       1   \n",
      "-4.700000e-03       1          1          1         1      1       1   \n",
      "-4.600000e-03       1          1          1         1      1       1   \n",
      "...               ...        ...        ...       ...    ...     ...   \n",
      " 1.251575e+03       1          1          1         1      1       0   \n",
      " 1.398773e+03       1          1          1         1      1       1   \n",
      " 1.406341e+03       1          1          1         1      1       1   \n",
      " 1.527955e+03       1          1          1         1      1       1   \n",
      " 3.000000e+06       1          1          1         1      1       1   \n",
      "\n",
      "               orderNumber  country_y  date_y  quantity  \n",
      "revenue                                                  \n",
      "-4.230000e-02            1          1       1         1  \n",
      "-2.110000e-02            1          1       1         1  \n",
      "-1.000000e-02            1          1       1         1  \n",
      "-4.700000e-03            1          1       1         1  \n",
      "-4.600000e-03            1          1       1         1  \n",
      "...                    ...        ...     ...       ...  \n",
      " 1.251575e+03            1          1       1         1  \n",
      " 1.398773e+03            1          1       1         1  \n",
      " 1.406341e+03            1          1       1         1  \n",
      " 1.527955e+03            1          1       1         1  \n",
      " 3.000000e+06            1          1       1         1  \n",
      "\n",
      "[117191 rows x 10 columns]\n"
     ]
    }
   ],
   "source": [
    "groubydfjoin = df_join.groupby([\"revenue\"]).count()\n",
    "\n",
    "print(len(df_join))\n",
    "print(len(groubydfjoin))\n",
    "print(df_join.groupby([\"revenue\"]).count())\n"
   ]
  },
  {
   "cell_type": "code",
   "execution_count": 74,
   "metadata": {},
   "outputs": [
    {
     "data": {
      "text/plain": [
       "<matplotlib.collections.PathCollection at 0x256025fe770>"
      ]
     },
     "execution_count": 74,
     "metadata": {},
     "output_type": "execute_result"
    },
    {
     "data": {
      "image/png": "[encoded data removed]",
      "text/plain": [
       "<Figure size 640x480 with 1 Axes>"
      ]
     },
     "metadata": {},
     "output_type": "display_data"
    }
   ],
   "source": [
    "plt.scatter(df_join['quantity'][df_join['abUser']==1], df_join['revenue'][df_join['abUser']==1], alpha=0.5)"
   ]
  }
 ],
 "metadata": {
  "kernelspec": {
   "display_name": "Python 3",
   "language": "python",
   "name": "python3"
  },
  "language_info": {
   "codemirror_mode": {
    "name": "ipython",
    "version": 3
   },
   "file_extension": ".py",
   "mimetype": "text/x-python",
   "name": "python",
   "nbconvert_exporter": "python",
   "pygments_lexer": "ipython3",
   "version": "3.10.0"
  },
  "orig_nbformat": 4
 },
 "nbformat": 4,
 "nbformat_minor": 2
}
