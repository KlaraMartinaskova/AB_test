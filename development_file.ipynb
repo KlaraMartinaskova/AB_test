{
 "cells": [
  {
   "attachments": {},
   "cell_type": "markdown",
   "metadata": {},
   "source": [
    "##### Notino Test Assigment\n",
    "###### Author: Klara Martinaskova\n",
    "###### Task: Evaluate an AB test of the recommendation algorithm\n"
   ]
  },
  {
   "cell_type": "code",
   "execution_count": null,
   "metadata": {},
   "outputs": [],
   "source": []
  },
  {
   "cell_type": "code",
   "execution_count": 5,
   "metadata": {},
   "outputs": [],
   "source": [
    "from matplotlib import pyplot as plt\n",
    "import pandas as pd\n",
    "import seaborn as sns\n",
    "import numpy as np\n",
    "import zipfile\n",
    "import os\n",
    "import csv\n"
   ]
  },
  {
   "cell_type": "code",
   "execution_count": 6,
   "metadata": {},
   "outputs": [],
   "source": [
    "# open CSV files\n",
    "with open('clients_final.csv', 'r') as file:\n",
    "    csv_clients = csv.reader(file)\n",
    "with open('orders_final.csv', 'r') as file:\n",
    "    csv_orders = csv.reader(file)"
   ]
  },
  {
   "cell_type": "code",
   "execution_count": 7,
   "metadata": {},
   "outputs": [
    {
     "name": "stdout",
     "output_type": "stream",
     "text": [
      "<class '_csv.reader'>\n",
      "<class '_csv.reader'>\n"
     ]
    }
   ],
   "source": [
    "\n",
    "print(type(csv_clients))\n",
    "print(type(csv_orders))"
   ]
  },
  {
   "cell_type": "code",
   "execution_count": 8,
   "metadata": {},
   "outputs": [
    {
     "name": "stdout",
     "output_type": "stream",
     "text": [
      "<class 'pandas.core.frame.DataFrame'>\n",
      "<class 'pandas.core.frame.DataFrame'>\n"
     ]
    }
   ],
   "source": [
    "# open csv file ans save as dataframe\n",
    "df_clients = pd.read_csv('clients_final.csv')\n",
    "df_orders = pd.read_csv('orders_final.csv')\n",
    "\n",
    "print(type(df_clients))\n",
    "print(type(df_orders))"
   ]
  },
  {
   "cell_type": "code",
   "execution_count": 9,
   "metadata": {},
   "outputs": [
    {
     "name": "stdout",
     "output_type": "stream",
     "text": [
      "         date country               sessionID            clientID  isNew  \\\n",
      "0  2023-05-17      CH  4917af16af33f.smyluydm  47f9978883.4917aff      0   \n",
      "1  2023-05-17      CH  4917af16aff17.xgrloruz   913x1x688.497f486      0   \n",
      "2  2023-05-17      CH   4917af166a373.j1v9mmi  491a661ax6.4917aff      1   \n",
      "3  2023-05-17      CH   4917af1669x74.vsakfcn  4ff8714149.4917af9      1   \n",
      "4  2023-05-17      CH   4917af1661f1a.fxp7nsf  67a67x3f9.4917af18      1   \n",
      "\n",
      "   abUser  orderNumber  \n",
      "0     1.0          NaN  \n",
      "1     1.0          NaN  \n",
      "2     1.0          NaN  \n",
      "3     1.0          NaN  \n",
      "4     1.0          NaN  \n"
     ]
    }
   ],
   "source": [
    "print(df_clients.head())"
   ]
  },
  {
   "cell_type": "code",
   "execution_count": 10,
   "metadata": {},
   "outputs": [],
   "source": [
    "df_clients = pd.read_csv('clients_final.csv',encoding=\"cp1250\", sep=\",\", low_memory=False)"
   ]
  },
  {
   "cell_type": "code",
   "execution_count": 11,
   "metadata": {},
   "outputs": [
    {
     "name": "stdout",
     "output_type": "stream",
     "text": [
      "         date country               sessionID            clientID  isNew  \\\n",
      "0  2023-05-17      CH  4917af16af33f.smyluydm  47f9978883.4917aff      0   \n",
      "1  2023-05-17      CH  4917af16aff17.xgrloruz   913x1x688.497f486      0   \n",
      "2  2023-05-17      CH   4917af166a373.j1v9mmi  491a661ax6.4917aff      1   \n",
      "3  2023-05-17      CH   4917af1669x74.vsakfcn  4ff8714149.4917af9      1   \n",
      "4  2023-05-17      CH   4917af1661f1a.fxp7nsf  67a67x3f9.4917af18      1   \n",
      "\n",
      "   abUser  orderNumber  \n",
      "0     1.0          NaN  \n",
      "1     1.0          NaN  \n",
      "2     1.0          NaN  \n",
      "3     1.0          NaN  \n",
      "4     1.0          NaN  \n"
     ]
    }
   ],
   "source": [
    "print(df_clients.head())"
   ]
  },
  {
   "cell_type": "code",
   "execution_count": 12,
   "metadata": {},
   "outputs": [
    {
     "name": "stdout",
     "output_type": "stream",
     "text": [
      "(2769600, 7)\n",
      "2769600\n",
      "0           True\n",
      "1           True\n",
      "2           True\n",
      "3           True\n",
      "4           True\n",
      "           ...  \n",
      "5562167     True\n",
      "5562168    False\n",
      "5562169    False\n",
      "5562170    False\n",
      "5562171     True\n",
      "Name: abUser, Length: 5562172, dtype: bool\n"
     ]
    }
   ],
   "source": [
    "abUser1 = df_clients[df_clients['abUser']==1.0]\n",
    "print(abUser1.shape)\n",
    "print(abUser1['abUser'].count())\n",
    "print((df_clients['abUser']==1.0))"
   ]
  },
  {
   "cell_type": "code",
   "execution_count": 13,
   "metadata": {},
   "outputs": [
    {
     "name": "stdout",
     "output_type": "stream",
     "text": [
      "[ 1.  2. nan]\n",
      "2769600\n",
      "2770134\n",
      "22438\n",
      "5562172\n",
      "(5562172, 7)\n"
     ]
    }
   ],
   "source": [
    "sum_reco = (df_clients['abUser']==1.0).sum()\n",
    "sum_control = (df_clients['abUser']==2.0).sum()\n",
    "sum_99 = (df_clients['abUser']).isna().sum()\n",
    "# print only unique values in abUser\n",
    "print(df_clients['abUser'].unique())\n",
    "print(sum_reco)\n",
    "print(sum_control)\n",
    "print(sum_99)\n",
    "print(sum_reco + sum_control + sum_99)\n",
    "print(df_clients.shape)"
   ]
  },
  {
   "cell_type": "code",
   "execution_count": 14,
   "metadata": {},
   "outputs": [
    {
     "name": "stdout",
     "output_type": "stream",
     "text": [
      "Unique values in abUser: [ 1.  2. nan]\n"
     ]
    }
   ],
   "source": [
    "abUser_unique = df_clients['abUser'].unique() # 99 is not present here (just NaN)\n",
    "txt = \"Unique values in abUser: {}\"\n",
    "print(txt.format(abUser_unique))"
   ]
  },
  {
   "cell_type": "code",
   "execution_count": null,
   "metadata": {},
   "outputs": [],
   "source": []
  },
  {
   "cell_type": "code",
   "execution_count": 15,
   "metadata": {},
   "outputs": [
    {
     "name": "stdout",
     "output_type": "stream",
     "text": [
      "2769600\n",
      "2770134\n",
      "22438\n",
      "5562172\n",
      "(5562172, 7)\n"
     ]
    }
   ],
   "source": [
    "# o\tIs the ratio of users in the reco group and users in the test group really 50:50? \n",
    "# reco group: abUser   = 2\n",
    "# control group: abUser = 1\n",
    "\n",
    "reco_count = df_clients['abUser'][df_clients['abUser']==1].count()\n",
    "control_count = df_clients['abUser'][df_clients['abUser']==2].count()\n",
    "other_count = (df_clients['abUser']).isna().sum()\n",
    "\n",
    "print(reco_count)\n",
    "print(control_count)\n",
    "print(other_count)\n",
    "print(reco_count + control_count + other_count) # check sum of all\n",
    "print(df_clients.shape)\n",
    "\n",
    "\n",
    "\n"
   ]
  },
  {
   "cell_type": "code",
   "execution_count": 16,
   "metadata": {},
   "outputs": [
    {
     "name": "stdout",
     "output_type": "stream",
     "text": [
      "The test is fine, share is below 0.5%.\n",
      "Percent of users with an unassigned group: 0.40%\n"
     ]
    }
   ],
   "source": [
    "# •\tWhat about the users with an unassigned group? Bambino thinks the test is fine if their share is below 0.5%. \n",
    "reco_count = df_clients['abUser'][df_clients['abUser']==1].count()\n",
    "control_count = df_clients['abUser'][df_clients['abUser']==2].count()\n",
    "other_count = (df_clients['abUser']).isna().sum()\n",
    "\n",
    "percent = other_count/((reco_count + control_count + other_count))*100\n",
    "\n",
    "\n",
    "if percent < 0.5:\n",
    "    print(\"The test is fine, share is below 0.5%.\")\n",
    "    print(\"Percent of users with an unassigned group: {:.2f}%\".format(percent))\n",
    "else:\n",
    "    print(\"The test is not fine, share is {:.2f}%\".format(percent))\n"
   ]
  },
  {
   "cell_type": "code",
   "execution_count": 17,
   "metadata": {},
   "outputs": [
    {
     "name": "stdout",
     "output_type": "stream",
     "text": [
      "               date country               sessionID            clientID  \\\n",
      "0        2023-05-17      CH  4917af16af33f.smyluydm  47f9978883.4917aff   \n",
      "1        2023-05-17      CH  4917af16aff17.xgrloruz   913x1x688.497f486   \n",
      "2        2023-05-17      CH   4917af166a373.j1v9mmi  491a661ax6.4917aff   \n",
      "3        2023-05-17      CH   4917af1669x74.vsakfcn  4ff8714149.4917af9   \n",
      "4        2023-05-17      CH   4917af1661f1a.fxp7nsf  67a67x3f9.4917af18   \n",
      "...             ...     ...                     ...                 ...   \n",
      "4850093  2023-06-14      CH  49199f9a17a17.snx39iox   69a1a9348.49199f9   \n",
      "4850094  2023-06-14      CH  49199f9a19441.mx3mzhbg  4188a94139.49199fx   \n",
      "4850095  2023-06-14      CH  49199f96a94xx.1yp1ge6r   a3974a4979.49xf99   \n",
      "4850096  2023-06-14      CH  49199f96x9371.nrd9r8tv  4319f86691.49198x1   \n",
      "4850097  2023-06-14      CH   49199f96f1ff9.vkrwehp   x46134166.49199f9   \n",
      "\n",
      "         isNew  abUser  orderNumber  \n",
      "0            0     1.0          NaN  \n",
      "1            0     1.0          NaN  \n",
      "2            1     1.0          NaN  \n",
      "3            1     1.0          NaN  \n",
      "4            1     1.0          NaN  \n",
      "...        ...     ...          ...  \n",
      "4850093      1     2.0          NaN  \n",
      "4850094      1     2.0          NaN  \n",
      "4850095      0     1.0          NaN  \n",
      "4850096      0     1.0          NaN  \n",
      "4850097      1     2.0          NaN  \n",
      "\n",
      "[156 rows x 7 columns]\n"
     ]
    }
   ],
   "source": [
    "# group by date\n",
    "groupt_date = df_clients.groupby('date')\n",
    "print(groupt_date.head())"
   ]
  },
  {
   "cell_type": "code",
   "execution_count": 18,
   "metadata": {},
   "outputs": [
    {
     "name": "stdout",
     "output_type": "stream",
     "text": [
      "5289905\n"
     ]
    }
   ],
   "source": [
    "# how many order num is Nan\n",
    "print(df_clients['orderNumber'].isna().sum())"
   ]
  },
  {
   "cell_type": "code",
   "execution_count": 19,
   "metadata": {},
   "outputs": [],
   "source": [
    "# o\tCan you test it by an appropriate statistical test? \n",
    "# o\tDo you prefer to test it on a daily basis, or to run one test for the whole period? \n",
    "# o\tIf you run multiple tests, do you need all of them to have positive results to verify the 50:50 distribution hypothesis? \n"
   ]
  },
  {
   "cell_type": "code",
   "execution_count": 20,
   "metadata": {},
   "outputs": [
    {
     "name": "stdout",
     "output_type": "stream",
     "text": [
      "0          False\n",
      "1          False\n",
      "2          False\n",
      "3          False\n",
      "4          False\n",
      "           ...  \n",
      "5562167    False\n",
      "5562168    False\n",
      "5562169    False\n",
      "5562170    False\n",
      "5562171    False\n",
      "Length: 5562172, dtype: bool\n"
     ]
    }
   ],
   "source": [
    "print(df_clients.duplicated())"
   ]
  },
  {
   "cell_type": "code",
   "execution_count": 21,
   "metadata": {},
   "outputs": [],
   "source": [
    "# new_df = df.dropna() # new dataframe, which doesnot change the original dataframe and does not contain NaN values\n",
    "# df['Date'] = pd.to_datetime(df['Date']) # convert column Date to datetime\n",
    "# print(df.duplicated())\n",
    "# df.drop_duplicates(inplace = True)\n"
   ]
  },
  {
   "cell_type": "code",
   "execution_count": 41,
   "metadata": {},
   "outputs": [
    {
     "name": "stdout",
     "output_type": "stream",
     "text": [
      "Share of orders that are not in GA data: 8.76%\n"
     ]
    }
   ],
   "source": [
    "# •\tWhat about the orders that are not in GA data? What is their share? How do you propose to handle them?\n",
    "df_join = df_clients.merge(df_orders, on='orderNumber', how='inner') # inner join\n",
    "df_join_count = df_join['orderNumber'].count() # number of common orders in both dataframes\n",
    "df_clients_count = df_clients['orderNumber'].count() # number of orders in df_clients\n",
    "share = 1-(df_join_count/df_clients_count) # share of orders that are not in GA data\n",
    "\n",
    "print(\"Share of orders that are not in GA data: {:.2f}%\".format(share*100))"
   ]
  },
  {
   "cell_type": "code",
   "execution_count": 43,
   "metadata": {},
   "outputs": [
    {
     "name": "stdout",
     "output_type": "stream",
     "text": [
      "       date_x country_x               sessionID            clientID  isNew  \\\n",
      "0  2023-05-17        CH   4917af16fx34x.n6c6bdy  4f17a76x4f.4917af9      0   \n",
      "1  2023-05-17        CH   4917af184a73x.esah47g   74x747x34.49364ax      0   \n",
      "2  2023-05-17        CH  4917af1887a37.axhmhla9   7xfx73f47.49xf9a1      0   \n",
      "3  2023-05-17        CH  491764771a143.uf1pn9mb  478786336a.48f641a      0   \n",
      "4  2023-05-17        CH  4917af6afxxfa.3zn8xizx   7499371f7.4917aa1      0   \n",
      "\n",
      "   abUser   orderNumber country_y      date_y  quantity   revenue  \n",
      "0     2.0  1.142808e+09        CH  2023-05-17         1    8.3551  \n",
      "1     1.0  1.142808e+09        CH  2023-05-17         9  107.4632  \n",
      "2     1.0  1.142808e+09        CH  2023-05-17         3   14.1620  \n",
      "3     1.0  1.142810e+09        CH  2023-05-17        26  140.9439  \n",
      "4     1.0  1.142808e+09        CH  2023-05-17         2   16.4306  \n"
     ]
    }
   ],
   "source": [
    "print(df_join.head())"
   ]
  },
  {
   "cell_type": "code",
   "execution_count": 45,
   "metadata": {},
   "outputs": [
    {
     "name": "stdout",
     "output_type": "stream",
     "text": [
      "66.9124707396017\n",
      "41.82435776019209\n",
      "The reco group earns, on average, a greater revenue.\n",
      "The average revenue of reco group is 66.91 and the average revenue of control group is 41.82\n"
     ]
    }
   ],
   "source": [
    "#•\tDoes the “reco group” earn, on average, a greater revenue? Does it have larger orders? \n",
    "# Propose appropriate metrics and visualize them. Is there any other metric you may wish to evaluate?\n",
    "\n",
    "# reco group =  abUser == 1\n",
    "# control group = abUser == 2\n",
    "\n",
    "\n",
    "\n",
    "reco_mean = df_join['revenue'][df_join['abUser']==1].mean() \n",
    "control_mean = df_join['revenue'][df_join['abUser']==2].mean()\n",
    "\n",
    "print(reco_mean)\n",
    "print(control_mean)\n",
    "\n",
    "if reco_mean > control_mean:\n",
    "    print(\"The reco group earns, on average, a greater revenue.\")\n",
    "else:\n",
    "    print(\"The reco group does not earn, on average, a greater revenue.\")\n",
    "\n",
    "print(\"The average revenue of reco group is {:.2f} and the average revenue of control group is {:.2f}\".format(reco_mean, control_mean))\n",
    "    "
   ]
  },
  {
   "cell_type": "code",
   "execution_count": null,
   "metadata": {},
   "outputs": [],
   "source": []
  }
 ],
 "metadata": {
  "kernelspec": {
   "display_name": "Python 3",
   "language": "python",
   "name": "python3"
  },
  "language_info": {
   "codemirror_mode": {
    "name": "ipython",
    "version": 3
   },
   "file_extension": ".py",
   "mimetype": "text/x-python",
   "name": "python",
   "nbconvert_exporter": "python",
   "pygments_lexer": "ipython3",
   "version": "3.10.0"
  },
  "orig_nbformat": 4
 },
 "nbformat": 4,
 "nbformat_minor": 2
}
