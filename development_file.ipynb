{
 "cells": [
  {
   "attachments": {},
   "cell_type": "markdown",
   "metadata": {},
   "source": [
    "##### Notino Test Assigment\n",
    "###### Author: Klara Martinaskova\n",
    "###### Task: Evaluate an AB test of the recommendation algorithm\n"
   ]
  },
  {
   "cell_type": "code",
   "execution_count": null,
   "metadata": {},
   "outputs": [],
   "source": []
  },
  {
   "cell_type": "code",
   "execution_count": 1,
   "metadata": {},
   "outputs": [],
   "source": [
    "from matplotlib import pyplot as plt\n",
    "import pandas as pd\n",
    "import seaborn as sns\n",
    "import numpy as np\n",
    "import zipfile\n",
    "import os\n",
    "import csv\n"
   ]
  },
  {
   "cell_type": "code",
   "execution_count": 3,
   "metadata": {},
   "outputs": [],
   "source": [
    "# open CSV files\n",
    "with open('clients_final.csv', 'r') as file:\n",
    "    csv_clients = csv.reader(file)\n",
    "with open('orders_final.csv', 'r') as file:\n",
    "    csv_orders = csv.reader(file)"
   ]
  },
  {
   "cell_type": "code",
   "execution_count": 4,
   "metadata": {},
   "outputs": [
    {
     "name": "stdout",
     "output_type": "stream",
     "text": [
      "<class '_csv.reader'>\n",
      "<class '_csv.reader'>\n"
     ]
    }
   ],
   "source": [
    "\n",
    "print(type(csv_clients))\n",
    "print(type(csv_orders))"
   ]
  },
  {
   "cell_type": "code",
   "execution_count": 13,
   "metadata": {},
   "outputs": [
    {
     "name": "stdout",
     "output_type": "stream",
     "text": [
      "<class 'pandas.core.frame.DataFrame'>\n",
      "<class 'pandas.core.frame.DataFrame'>\n"
     ]
    }
   ],
   "source": [
    "# open csv file ans save as dataframe\n",
    "df_clients = pd.read_csv('clients_final.csv')\n",
    "df_orders = pd.read_csv('orders_final.csv')\n",
    "\n",
    "print(type(df_clients))\n",
    "print(type(df_orders))"
   ]
  },
  {
   "cell_type": "code",
   "execution_count": 14,
   "metadata": {},
   "outputs": [
    {
     "name": "stdout",
     "output_type": "stream",
     "text": [
      "         date country               sessionID            clientID  isNew  \\\n",
      "0  2023-05-17      CH  4917af16af33f.smyluydm  47f9978883.4917aff      0   \n",
      "1  2023-05-17      CH  4917af16aff17.xgrloruz   913x1x688.497f486      0   \n",
      "2  2023-05-17      CH   4917af166a373.j1v9mmi  491a661ax6.4917aff      1   \n",
      "3  2023-05-17      CH   4917af1669x74.vsakfcn  4ff8714149.4917af9      1   \n",
      "4  2023-05-17      CH   4917af1661f1a.fxp7nsf  67a67x3f9.4917af18      1   \n",
      "\n",
      "   abUser  orderNumber  \n",
      "0     1.0          NaN  \n",
      "1     1.0          NaN  \n",
      "2     1.0          NaN  \n",
      "3     1.0          NaN  \n",
      "4     1.0          NaN  \n"
     ]
    }
   ],
   "source": [
    "print(df_clients.head())"
   ]
  },
  {
   "cell_type": "code",
   "execution_count": 16,
   "metadata": {},
   "outputs": [],
   "source": [
    "df_clients = pd.read_csv('clients_final.csv',encoding=\"cp1250\", sep=\",\", low_memory=False)"
   ]
  },
  {
   "cell_type": "code",
   "execution_count": 18,
   "metadata": {},
   "outputs": [
    {
     "name": "stdout",
     "output_type": "stream",
     "text": [
      "         date country               sessionID            clientID  isNew  \\\n",
      "0  2023-05-17      CH  4917af16af33f.smyluydm  47f9978883.4917aff      0   \n",
      "1  2023-05-17      CH  4917af16aff17.xgrloruz   913x1x688.497f486      0   \n",
      "2  2023-05-17      CH   4917af166a373.j1v9mmi  491a661ax6.4917aff      1   \n",
      "3  2023-05-17      CH   4917af1669x74.vsakfcn  4ff8714149.4917af9      1   \n",
      "4  2023-05-17      CH   4917af1661f1a.fxp7nsf  67a67x3f9.4917af18      1   \n",
      "\n",
      "   abUser  orderNumber  \n",
      "0     1.0          NaN  \n",
      "1     1.0          NaN  \n",
      "2     1.0          NaN  \n",
      "3     1.0          NaN  \n",
      "4     1.0          NaN  \n"
     ]
    }
   ],
   "source": [
    "print(df_clients.head())"
   ]
  }
 ],
 "metadata": {
  "kernelspec": {
   "display_name": "Python 3",
   "language": "python",
   "name": "python3"
  },
  "language_info": {
   "codemirror_mode": {
    "name": "ipython",
    "version": 3
   },
   "file_extension": ".py",
   "mimetype": "text/x-python",
   "name": "python",
   "nbconvert_exporter": "python",
   "pygments_lexer": "ipython3",
   "version": "3.10.0"
  },
  "orig_nbformat": 4
 },
 "nbformat": 4,
 "nbformat_minor": 2
}
